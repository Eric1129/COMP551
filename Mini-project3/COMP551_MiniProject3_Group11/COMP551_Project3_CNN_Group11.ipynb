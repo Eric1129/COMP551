{
  "nbformat": 4,
  "nbformat_minor": 0,
  "metadata": {
    "colab": {
      "name": "COMP551 Project3 CNN Group11.ipynb",
      "provenance": [],
      "collapsed_sections": [],
      "toc_visible": true
    },
    "kernelspec": {
      "name": "python3",
      "display_name": "Python 3"
    },
    "accelerator": "GPU",
    "widgets": {
      "application/vnd.jupyter.widget-state+json": {
        "65224f61b7004c6fa847c7e68fcc09d1": {
          "model_module": "@jupyter-widgets/controls",
          "model_name": "HBoxModel",
          "state": {
            "_view_name": "HBoxView",
            "_dom_classes": [],
            "_model_name": "HBoxModel",
            "_view_module": "@jupyter-widgets/controls",
            "_model_module_version": "1.5.0",
            "_view_count": null,
            "_view_module_version": "1.5.0",
            "box_style": "",
            "layout": "IPY_MODEL_9dfb95f9845544c3a22f5337eff52c11",
            "_model_module": "@jupyter-widgets/controls",
            "children": [
              "IPY_MODEL_7f4c1797ca2d4d63b602eb17b521ff33",
              "IPY_MODEL_9dd8c1cf0d474e82a64440385933b762"
            ]
          }
        },
        "9dfb95f9845544c3a22f5337eff52c11": {
          "model_module": "@jupyter-widgets/base",
          "model_name": "LayoutModel",
          "state": {
            "_view_name": "LayoutView",
            "grid_template_rows": null,
            "right": null,
            "justify_content": null,
            "_view_module": "@jupyter-widgets/base",
            "overflow": null,
            "_model_module_version": "1.2.0",
            "_view_count": null,
            "flex_flow": null,
            "width": null,
            "min_width": null,
            "border": null,
            "align_items": null,
            "bottom": null,
            "_model_module": "@jupyter-widgets/base",
            "top": null,
            "grid_column": null,
            "overflow_y": null,
            "overflow_x": null,
            "grid_auto_flow": null,
            "grid_area": null,
            "grid_template_columns": null,
            "flex": null,
            "_model_name": "LayoutModel",
            "justify_items": null,
            "grid_row": null,
            "max_height": null,
            "align_content": null,
            "visibility": null,
            "align_self": null,
            "height": null,
            "min_height": null,
            "padding": null,
            "grid_auto_rows": null,
            "grid_gap": null,
            "max_width": null,
            "order": null,
            "_view_module_version": "1.2.0",
            "grid_template_areas": null,
            "object_position": null,
            "object_fit": null,
            "grid_auto_columns": null,
            "margin": null,
            "display": null,
            "left": null
          }
        },
        "7f4c1797ca2d4d63b602eb17b521ff33": {
          "model_module": "@jupyter-widgets/controls",
          "model_name": "IntProgressModel",
          "state": {
            "_view_name": "ProgressView",
            "style": "IPY_MODEL_2b865fcb619d44b9b0d32ce294a2b962",
            "_dom_classes": [],
            "description": "",
            "_model_name": "IntProgressModel",
            "bar_style": "info",
            "max": 1,
            "_view_module": "@jupyter-widgets/controls",
            "_model_module_version": "1.5.0",
            "value": 1,
            "_view_count": null,
            "_view_module_version": "1.5.0",
            "orientation": "horizontal",
            "min": 0,
            "description_tooltip": null,
            "_model_module": "@jupyter-widgets/controls",
            "layout": "IPY_MODEL_585d423b63e14992a8927e642b89ae98"
          }
        },
        "9dd8c1cf0d474e82a64440385933b762": {
          "model_module": "@jupyter-widgets/controls",
          "model_name": "HTMLModel",
          "state": {
            "_view_name": "HTMLView",
            "style": "IPY_MODEL_9c31ff55f08c4ec1ac4ee5364b2540ce",
            "_dom_classes": [],
            "description": "",
            "_model_name": "HTMLModel",
            "placeholder": "​",
            "_view_module": "@jupyter-widgets/controls",
            "_model_module_version": "1.5.0",
            "value": " 170500096/? [00:30&lt;00:00, 14147966.81it/s]",
            "_view_count": null,
            "_view_module_version": "1.5.0",
            "description_tooltip": null,
            "_model_module": "@jupyter-widgets/controls",
            "layout": "IPY_MODEL_7af5fcdff86d4d4797ecdcc2bd14a5fa"
          }
        },
        "2b865fcb619d44b9b0d32ce294a2b962": {
          "model_module": "@jupyter-widgets/controls",
          "model_name": "ProgressStyleModel",
          "state": {
            "_view_name": "StyleView",
            "_model_name": "ProgressStyleModel",
            "description_width": "initial",
            "_view_module": "@jupyter-widgets/base",
            "_model_module_version": "1.5.0",
            "_view_count": null,
            "_view_module_version": "1.2.0",
            "bar_color": null,
            "_model_module": "@jupyter-widgets/controls"
          }
        },
        "585d423b63e14992a8927e642b89ae98": {
          "model_module": "@jupyter-widgets/base",
          "model_name": "LayoutModel",
          "state": {
            "_view_name": "LayoutView",
            "grid_template_rows": null,
            "right": null,
            "justify_content": null,
            "_view_module": "@jupyter-widgets/base",
            "overflow": null,
            "_model_module_version": "1.2.0",
            "_view_count": null,
            "flex_flow": null,
            "width": null,
            "min_width": null,
            "border": null,
            "align_items": null,
            "bottom": null,
            "_model_module": "@jupyter-widgets/base",
            "top": null,
            "grid_column": null,
            "overflow_y": null,
            "overflow_x": null,
            "grid_auto_flow": null,
            "grid_area": null,
            "grid_template_columns": null,
            "flex": null,
            "_model_name": "LayoutModel",
            "justify_items": null,
            "grid_row": null,
            "max_height": null,
            "align_content": null,
            "visibility": null,
            "align_self": null,
            "height": null,
            "min_height": null,
            "padding": null,
            "grid_auto_rows": null,
            "grid_gap": null,
            "max_width": null,
            "order": null,
            "_view_module_version": "1.2.0",
            "grid_template_areas": null,
            "object_position": null,
            "object_fit": null,
            "grid_auto_columns": null,
            "margin": null,
            "display": null,
            "left": null
          }
        },
        "9c31ff55f08c4ec1ac4ee5364b2540ce": {
          "model_module": "@jupyter-widgets/controls",
          "model_name": "DescriptionStyleModel",
          "state": {
            "_view_name": "StyleView",
            "_model_name": "DescriptionStyleModel",
            "description_width": "",
            "_view_module": "@jupyter-widgets/base",
            "_model_module_version": "1.5.0",
            "_view_count": null,
            "_view_module_version": "1.2.0",
            "_model_module": "@jupyter-widgets/controls"
          }
        },
        "7af5fcdff86d4d4797ecdcc2bd14a5fa": {
          "model_module": "@jupyter-widgets/base",
          "model_name": "LayoutModel",
          "state": {
            "_view_name": "LayoutView",
            "grid_template_rows": null,
            "right": null,
            "justify_content": null,
            "_view_module": "@jupyter-widgets/base",
            "overflow": null,
            "_model_module_version": "1.2.0",
            "_view_count": null,
            "flex_flow": null,
            "width": null,
            "min_width": null,
            "border": null,
            "align_items": null,
            "bottom": null,
            "_model_module": "@jupyter-widgets/base",
            "top": null,
            "grid_column": null,
            "overflow_y": null,
            "overflow_x": null,
            "grid_auto_flow": null,
            "grid_area": null,
            "grid_template_columns": null,
            "flex": null,
            "_model_name": "LayoutModel",
            "justify_items": null,
            "grid_row": null,
            "max_height": null,
            "align_content": null,
            "visibility": null,
            "align_self": null,
            "height": null,
            "min_height": null,
            "padding": null,
            "grid_auto_rows": null,
            "grid_gap": null,
            "max_width": null,
            "order": null,
            "_view_module_version": "1.2.0",
            "grid_template_areas": null,
            "object_position": null,
            "object_fit": null,
            "grid_auto_columns": null,
            "margin": null,
            "display": null,
            "left": null
          }
        }
      }
    }
  },
  "cells": [
    {
      "cell_type": "markdown",
      "metadata": {
        "id": "83QEZPCJi4S5",
        "colab_type": "text"
      },
      "source": [
        "# COMP551 Project3 CNN Group11\n",
        "\n",
        "Eric Shen 260798146\n",
        "\n",
        "Stephen Shen\n"
      ]
    },
    {
      "cell_type": "markdown",
      "metadata": {
        "id": "4TkongQ0p920",
        "colab_type": "text"
      },
      "source": [
        "## Loading and Normalizing CIFAR10"
      ]
    },
    {
      "cell_type": "code",
      "metadata": {
        "colab_type": "code",
        "id": "6xGa7HHJ1xeu",
        "colab": {}
      },
      "source": [
        "import torch\n",
        "import torchvision\n",
        "import torchvision.transforms as transforms"
      ],
      "execution_count": 0,
      "outputs": []
    },
    {
      "cell_type": "code",
      "metadata": {
        "id": "SLNG_k-kmZKX",
        "colab_type": "code",
        "outputId": "7fee49d0-90da-45eb-e757-d068bb73b5e6",
        "colab": {
          "base_uri": "https://localhost:8080/",
          "height": 100,
          "referenced_widgets": [
            "65224f61b7004c6fa847c7e68fcc09d1",
            "9dfb95f9845544c3a22f5337eff52c11",
            "7f4c1797ca2d4d63b602eb17b521ff33",
            "9dd8c1cf0d474e82a64440385933b762",
            "2b865fcb619d44b9b0d32ce294a2b962",
            "585d423b63e14992a8927e642b89ae98",
            "9c31ff55f08c4ec1ac4ee5364b2540ce",
            "7af5fcdff86d4d4797ecdcc2bd14a5fa"
          ]
        }
      },
      "source": [
        "#torchvision output is PILImage, the value range is [0,1]\n",
        "#We convert it to tensor data and normalize it to [-1,1]\n",
        "transform = transforms.Compose(\n",
        "    [transforms.ToTensor(),\n",
        "     transforms.Normalize((0.5, 0.5, 0.5), (0.5, 0.5, 0.5))])\n",
        "\n",
        "#Training set, load all the data in the cifar-10-batches-py folder under the relative directory ./data (50,000 pictures as training data) into the memory, if download is True, the data will be automatically downloaded from the Internet And unzip\n",
        "trainset = torchvision.datasets.CIFAR10(root='./data', train=True, download=True, transform=transform)\n",
        "                                        \n",
        "## Divide the 50000 pictures of the training set into 12500 copies, each with 4 pictures for mini-batch input shffule = True when traversing different batches of data, the order is shuffled. num_workers = 2 means use two child processes to load data                                     download=True, transform=transform)\n",
        "trainloader = torch.utils.data.DataLoader(trainset, batch_size=4, shuffle=True, num_workers=2)\n",
        "#Test set, load all data (10000 pictures as test data) in the cifar-10-batches-py folder in the relative directory ./data into the memory,\n",
        "testset = torchvision.datasets.CIFAR10(root='./data', train=False, download=True, transform=transform)\n",
        "\n",
        "#Divide the 10,000 pictures of the test set into 2500, 4 pictures for each copy, for mini-batch input\n",
        "testloader = torch.utils.data.DataLoader(testset, batch_size=4,\n",
        "                                         shuffle=False, num_workers=2)\n",
        "#create a class for different outcomes\n",
        "classes = ('plane', 'car', 'bird', 'cat',\n",
        "           'deer', 'dog', 'frog', 'horse', 'ship', 'truck')"
      ],
      "execution_count": 4,
      "outputs": [
        {
          "output_type": "stream",
          "text": [
            "Downloading https://www.cs.toronto.edu/~kriz/cifar-10-python.tar.gz to ./data/cifar-10-python.tar.gz\n"
          ],
          "name": "stdout"
        },
        {
          "output_type": "display_data",
          "data": {
            "application/vnd.jupyter.widget-view+json": {
              "model_id": "65224f61b7004c6fa847c7e68fcc09d1",
              "version_minor": 0,
              "version_major": 2
            },
            "text/plain": [
              "HBox(children=(IntProgress(value=1, bar_style='info', max=1), HTML(value='')))"
            ]
          },
          "metadata": {
            "tags": []
          }
        },
        {
          "output_type": "stream",
          "text": [
            "Extracting ./data/cifar-10-python.tar.gz to ./data\n",
            "Files already downloaded and verified\n"
          ],
          "name": "stdout"
        }
      ]
    },
    {
      "cell_type": "markdown",
      "metadata": {
        "id": "xFqUUibkninz",
        "colab_type": "text"
      },
      "source": [
        "## Preprocess"
      ]
    },
    {
      "cell_type": "code",
      "metadata": {
        "id": "O3S9dPG2mlGe",
        "colab_type": "code",
        "outputId": "266b866d-1426-4f45-f37e-0d844f51ddb6",
        "colab": {
          "base_uri": "https://localhost:8080/",
          "height": 155
        }
      },
      "source": [
        "import matplotlib.pyplot as plt\n",
        "import numpy as np\n",
        "\n",
        "# functions to show an image\n",
        "def imshow(img):\n",
        "    img = img / 2 + 0.5     # unnormalize\n",
        "    npimg = img.numpy() # Convert torch.FloatTensor to numpy\n",
        "    plt.imshow(np.transpose(npimg, (1, 2, 0))) #Convert the format of the picture from (channels, imagesize, imagesize) to (imagesize, imagesize, channels)\n",
        "    plt.show() #Show picture\n",
        "\n",
        "# get some random training images\n",
        "dataiter = iter(trainloader)#load the training data into the trainloader and make it an iterator\n",
        "images, labels = dataiter.next()\n",
        "\n",
        "# show images\n",
        "imshow(torchvision.utils.make_grid(images))\n",
        "# print labels\n",
        "print(' '.join('%5s' % classes[labels[j]] for j in range(4)))"
      ],
      "execution_count": 5,
      "outputs": [
        {
          "output_type": "display_data",
          "data": {
            "image/png": "[encoded data removed]",
            "text/plain": [
              "<Figure size 432x288 with 1 Axes>"
            ]
          },
          "metadata": {
            "tags": [],
            "needs_background": "light"
          }
        },
        {
          "output_type": "stream",
          "text": [
            " ship   car   dog  deer\n"
          ],
          "name": "stdout"
        }
      ]
    },
    {
      "cell_type": "markdown",
      "metadata": {
        "id": "Xxdxx93ljqkp",
        "colab_type": "text"
      },
      "source": [
        "## Convolutional Neural Network"
      ]
    },
    {
      "cell_type": "markdown",
      "metadata": {
        "id": "NB780W2dnX8j",
        "colab_type": "text"
      },
      "source": [
        "### Training\n"
      ]
    },
    {
      "cell_type": "markdown",
      "metadata": {
        "id": "sDBK_39BruP1",
        "colab_type": "text"
      },
      "source": [
        "Define a Convolutional Neural Network"
      ]
    },
    {
      "cell_type": "code",
      "metadata": {
        "id": "iqe_qBdOntH_",
        "colab_type": "code",
        "colab": {}
      },
      "source": [
        "import torch.nn as nn\n",
        "import torch.nn.functional as F\n",
        "\n",
        "#this class is to define a CNN model\n",
        "class Net(nn.Module):\n",
        "    def __init__(self):\n",
        "      #initialize the empty model\n",
        "        super(Net, self).__init__()\n",
        "        # The first layer in a CNN is a Convolutional Layer.# Define the conv1 function is the image convolution function: the input is an image (3 channels, that is, color image), the output is 6 feature maps, and the convolution kernel is 5x5 square\n",
        "        self.conv1 = nn.Conv2d(3, 6, 5)\n",
        "        #pooling layer to reduce the dimensions by 2.\n",
        "        self.pool = nn.MaxPool2d(2, 2)\n",
        "        # Define the conv2 function is the image convolution function: the input is an image (6 channels, that is, color image), the output is 16 feature maps, and the convolution kernel is 5x5 square\n",
        "        self.conv2 = nn.Conv2d(6, 16, 5)\n",
        "        # Full connection function; image size 5 * 5, channel is 16, connect 16 * 5 * 5 nodes to 120 nodes      \n",
        "        self.fc1 = nn.Linear(16 * 5 * 5, 120)\n",
        "        # Full connection function; connect 120 nodes to 84 nodes\n",
        "        self.fc2 = nn.Linear(120, 84)\n",
        "        # Full connection function; connect 84 nodes to 10 nodes\n",
        "        self.fc3 = nn.Linear(84, 10)\n",
        "\n",
        "    def forward(self, x):\n",
        "        # Input x goes through conv1, and it goes through activation function ReLU\n",
        "        x = self.pool(F.relu(self.conv1(x)))\n",
        "        # Input x goes through conv2, and it goes through activation function ReLU\n",
        "        x = self.pool(F.relu(self.conv2(x)))\n",
        "        # The view function transforms the tensor x into a one-dimensional vector form, and the total number of features does not change, preparing for the next full connection.\n",
        "        x = x.view(-1, 16 * 5 * 5)\n",
        "        x = F.relu(self.fc1(x))#Enter x through the full connection 1, then through the ReLU activation function, and then update x\n",
        "        x = F.relu(self.fc2(x))#Enter x through the full connection 2, then through the ReLU activation function, and then update x\n",
        "        x = self.fc3(x)\n",
        "        return x\n",
        "\n",
        "net = Net()"
      ],
      "execution_count": 0,
      "outputs": []
    },
    {
      "cell_type": "markdown",
      "metadata": {
        "id": "8UpCXm2lnxHb",
        "colab_type": "text"
      },
      "source": [
        "Define a Loss function and optimizer"
      ]
    },
    {
      "cell_type": "code",
      "metadata": {
        "id": "uYk8zzlpnuJk",
        "colab_type": "code",
        "colab": {}
      },
      "source": [
        "import torch.optim as optim\n",
        "\n",
        "criterion = nn.CrossEntropyLoss()#Cross entropy loss function\n",
        "\n",
        "#Using SGD (stochastic gradient descent) optimization, the learning rate is 0.001 and the momentum is 0.9\n",
        "optimizer = optim.SGD(net.parameters(), lr=0.001, momentum=0.9)"
      ],
      "execution_count": 0,
      "outputs": []
    },
    {
      "cell_type": "markdown",
      "metadata": {
        "id": "6RGD631en1eo",
        "colab_type": "text"
      },
      "source": [
        "Train the network"
      ]
    },
    {
      "cell_type": "code",
      "metadata": {
        "id": "WpFqL0Kmn3yr",
        "colab_type": "code",
        "outputId": "430eaf1d-e333-4f2f-d2fb-feecaafb7832",
        "colab": {
          "base_uri": "https://localhost:8080/",
          "height": 238
        }
      },
      "source": [
        "for epoch in range(2):  # loop over the dataset multiple times\n",
        "\n",
        "    running_loss = 0.0\n",
        "    #enumerate (sequence, [start = 0]), i serial number, data is data\n",
        "    for i, data in enumerate(trainloader, 0):\n",
        "        #get the inputs; data is a list of [inputs, labels] \n",
        "        #The structure of #data is: [4x3x32x32 tensor, length 4 tensor]\n",
        "        inputs, labels = data\n",
        "\n",
        "        # zero the parameter gradients\n",
        "        optimizer.zero_grad()\n",
        "\n",
        "        # forward + backward + optimize\n",
        "        outputs = net(inputs)\n",
        "        #The output and labels use cross entropy to calculate the loss\n",
        "        loss = criterion(outputs, labels)\n",
        "        #Back propagation\n",
        "        loss.backward()\n",
        "        #Update parameters with SGD\n",
        "        optimizer.step()\n",
        "\n",
        "        # print statistics\n",
        "        # Print the average loss value every 2000 batches of data\n",
        "        #loss itself is of Variable type, so use data to get its Tensor, because it is a scalar, so take 0\n",
        "        running_loss += loss.item()\n",
        "        if i % 2000 == 1999:    # print every 2000 mini-batches\n",
        "            print('[%d, %5d] loss: %.3f' %\n",
        "                  (epoch + 1, i + 1, running_loss / 2000))\n",
        "            running_loss = 0.0\n",
        "\n",
        "print('Finished Training')"
      ],
      "execution_count": 8,
      "outputs": [
        {
          "output_type": "stream",
          "text": [
            "[1,  2000] loss: 2.205\n",
            "[1,  4000] loss: 1.881\n",
            "[1,  6000] loss: 1.652\n",
            "[1,  8000] loss: 1.581\n",
            "[1, 10000] loss: 1.498\n",
            "[1, 12000] loss: 1.443\n",
            "[2,  2000] loss: 1.399\n",
            "[2,  4000] loss: 1.373\n",
            "[2,  6000] loss: 1.327\n",
            "[2,  8000] loss: 1.325\n",
            "[2, 10000] loss: 1.291\n",
            "[2, 12000] loss: 1.276\n",
            "Finished Training\n"
          ],
          "name": "stdout"
        }
      ]
    },
    {
      "cell_type": "code",
      "metadata": {
        "id": "gYllmVISn-3s",
        "colab_type": "code",
        "colab": {}
      },
      "source": [
        "PATH = './cifar_net.pth'\n",
        "torch.save(net.state_dict(), PATH)"
      ],
      "execution_count": 0,
      "outputs": []
    },
    {
      "cell_type": "markdown",
      "metadata": {
        "id": "uC9p9k5Anjg1",
        "colab_type": "text"
      },
      "source": [
        "### Result"
      ]
    },
    {
      "cell_type": "markdown",
      "metadata": {
        "id": "_sWaGVOSpx0F",
        "colab_type": "text"
      },
      "source": [
        "Accuracy on training set"
      ]
    },
    {
      "cell_type": "code",
      "metadata": {
        "id": "NlplQTqxp0E2",
        "colab_type": "code",
        "outputId": "5ca07c9a-4e10-4bb3-b89e-37b94c3388de",
        "colab": {
          "base_uri": "https://localhost:8080/",
          "height": 34
        }
      },
      "source": [
        "correct = 0 # Define the number of pictures predicted correctly, initialized to 0\n",
        "total = 0 # The total number of pictures participating in the test, also initialized to 0\n",
        "with torch.no_grad():\n",
        "  for data in trainloader: \n",
        "        images1, labels1 = data#The structure of #data is: [4x3x32x32 tensor, length 4 tensor]\n",
        "        outputs = net(images1)# forward + backward + optimize\n",
        "        #print outputs.data\n",
        "        _, predicted = torch.max(outputs.data, 1)# outputs.data is a 4x10 tensor, which returns the largest column value and serial number of each row to form a one-dimensional tensor, the first is the value tensor, and the second is the serial number tensor.\n",
        "        total += labels1.size(0) # Update the number of test pictures\n",
        "        correct += (predicted == labels1).sum().item()#Two one-dimensional tensors are compared line by line. The same line is recorded as 1, and the different lines are recorded as 0. Then, sum () is used to sum up to get the same number.\n",
        "print('Accuracy of the network on the 50000 training images: %d %%' % (\n",
        "    100 * correct / total))"
      ],
      "execution_count": 10,
      "outputs": [
        {
          "output_type": "stream",
          "text": [
            "Accuracy of the network on the 50000 training images: 56 %\n"
          ],
          "name": "stdout"
        }
      ]
    },
    {
      "cell_type": "markdown",
      "metadata": {
        "id": "B_0kwffcpt89",
        "colab_type": "text"
      },
      "source": [
        "Accuracy on test set"
      ]
    },
    {
      "cell_type": "code",
      "metadata": {
        "id": "vs6s0djVn9_M",
        "colab_type": "code",
        "outputId": "1cf4ff70-cbc2-4943-f06b-f567741dfe5e",
        "colab": {
          "base_uri": "https://localhost:8080/",
          "height": 34
        }
      },
      "source": [
        "correct = 0 # Define the number of pictures predicted correctly, initialized to 0\n",
        "total = 0 # The total number of pictures participating in the test, also initialized to 0\n",
        "confusion_matrix = np.zeros([10,10], int)\n",
        "\n",
        "with torch.no_grad():\n",
        "    for data in testloader: # Loop every batch\n",
        "        images, labels = data#The structure of #data is: [4x3x32x32 tensor, length 4 tensor]\n",
        "        outputs = net(images)# forward + backward + optimize\n",
        "        #print outputs.data\n",
        "        _, predicted = torch.max(outputs.data, 1)# outputs.data is a 4x10 tensor, which returns the largest column value and serial number of each row to form a one-dimensional tensor, the first is the value tensor, and the second is the serial number tensor\n",
        "        total += labels.size(0)# Update the number of test pictures\n",
        "        correct += (predicted == labels).sum().item()#Two one-dimensional tensors are compared line by line. The same line is recorded as 1, and the different lines are recorded as 0. Then, sum () is used to sum up to get the same number.\n",
        "        for i, l in enumerate(labels):\n",
        "            confusion_matrix[l.item(), predicted[i].item()] += 1 \n",
        "\n",
        "print('Accuracy of the network on the 10000 test images: %d %%' % (\n",
        "    100 * correct / total)) # Last print result"
      ],
      "execution_count": 11,
      "outputs": [
        {
          "output_type": "stream",
          "text": [
            "Accuracy of the network on the 10000 test images: 54 %\n"
          ],
          "name": "stdout"
        }
      ]
    },
    {
      "cell_type": "markdown",
      "metadata": {
        "id": "WO7uETNipPPw",
        "colab_type": "text"
      },
      "source": [
        "Result per class"
      ]
    },
    {
      "cell_type": "code",
      "metadata": {
        "id": "RmGEgQFopMqs",
        "colab_type": "code",
        "outputId": "dfda7da2-0ae2-4c48-f9c4-3b092e94b9f6",
        "colab": {
          "base_uri": "https://localhost:8080/",
          "height": 187
        }
      },
      "source": [
        "class_correct = list(0. for i in range(10))# Define a list that stores the correct number of tests in each category, initialized to 0\n",
        "class_total = list(0. for i in range(10))# Define a list that stores the total number of tests in each category, initialized to 0\n",
        "\n",
        "with torch.no_grad():\n",
        "    for data in testloader: # Cycle through a batch\n",
        "        images, labels = data#The structure of #data is: [4x3x32x32 tensor, length 4 tensor]\n",
        "        outputs = net(images)# forward + backward + optimize\n",
        "        _, predicted = torch.max(outputs, 1)# outputs.data is a 4x10 tensor, which returns the largest column value and serial number of each row to form a one-dimensional tensor, the first is the value tensor, and the second is the serial number tensor\n",
        "        c = (predicted == labels).squeeze()\n",
        "        for i in range(4):# Because each batch has 4 pictures, it also needs a 4 small loop\n",
        "            label = labels[i]# Add each category separately\n",
        "            class_correct[label] += c[i].item()\n",
        "            class_total[label] += 1\n",
        "\n",
        "for i in range(10):\n",
        "    print('Accuracy of %5s : %2d %%' % (\n",
        "        classes[i], 100 * class_correct[i] / class_total[i]))"
      ],
      "execution_count": 12,
      "outputs": [
        {
          "output_type": "stream",
          "text": [
            "Accuracy of plane : 66 %\n",
            "Accuracy of   car : 47 %\n",
            "Accuracy of  bird : 39 %\n",
            "Accuracy of   cat : 21 %\n",
            "Accuracy of  deer : 59 %\n",
            "Accuracy of   dog : 56 %\n",
            "Accuracy of  frog : 48 %\n",
            "Accuracy of horse : 54 %\n",
            "Accuracy of  ship : 74 %\n",
            "Accuracy of truck : 72 %\n"
          ],
          "name": "stdout"
        }
      ]
    },
    {
      "cell_type": "code",
      "metadata": {
        "id": "XD-lIuzPGyX_",
        "colab_type": "code",
        "outputId": "40ab0016-b2e0-4f17-afb8-72c8ea6c335c",
        "colab": {
          "base_uri": "https://localhost:8080/",
          "height": 388
        }
      },
      "source": [
        "fig, ax = plt.subplots(1,1,figsize=(8,6))\n",
        "ax.matshow(confusion_matrix, aspect='auto', vmin=0, vmax=1000, cmap=plt.get_cmap('Blues'))\n",
        "plt.ylabel('Actual Category')\n",
        "plt.yticks(range(10), classes)\n",
        "plt.xlabel('Predicted Category')\n",
        "plt.xticks(range(10), classes)\n",
        "plt.show()"
      ],
      "execution_count": 13,
      "outputs": [
        {
          "output_type": "display_data",
          "data": {
            "image/png": "[encoded data removed]",
            "text/plain": [
              "<Figure size 576x432 with 1 Axes>"
            ]
          },
          "metadata": {
            "tags": [],
            "needs_background": "light"
          }
        }
      ]
    }
  ]
}