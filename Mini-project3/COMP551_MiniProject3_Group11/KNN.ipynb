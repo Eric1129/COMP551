{
  "nbformat": 4,
  "nbformat_minor": 0,
  "metadata": {
    "colab": {
      "name": "KNN 1.ipynb",
      "provenance": []
    },
    "kernelspec": {
      "name": "python3",
      "display_name": "Python 3"
    }
  },
  "cells": [
    {
      "cell_type": "code",
      "metadata": {
        "id": "dJj2_P5KXqKS",
        "colab_type": "code",
        "outputId": "f3b23e82-f34c-4871-a7f9-a04ed4ed2d0f",
        "colab": {
          "base_uri": "https://localhost:8080/",
          "height": 136
        }
      },
      "source": [
        "import os\n",
        "import time\n",
        "import numpy as np\n",
        "\n",
        "import matplotlib.pyplot as plt\n",
        "import matplotlib as mpl\n",
        "%matplotlib inline\n",
        "# Load the CIFAR10 dataset\n",
        "\n",
        "from keras.datasets import cifar10\n",
        "baseDir = os.path.dirname(os.path.abspath('__file__')) + '/'\n",
        "classesName = ['plane', 'car', 'bird', 'cat', 'deer', 'dog', 'frog', 'horse', 'ship', 'truck']\n",
        "(xTrain, yTrain), (xTest, yTest) = cifar10.load_data()\n",
        "\n",
        "xTrain = xTrain[:50000, :].astype(np.float)\n",
        "yTrain = np.squeeze(yTrain[:50000, :])\n",
        "yTest = np.squeeze(yTest)\n",
        "xTest = xTest.astype(np.float)\n",
        "\n",
        "# Show dimension for each variable\n",
        "print ('Train image shape:    {0}'.format(xTrain.shape))\n",
        "print ('Train label shape:    {0}'.format(yTrain.shape))\n",
        "\n",
        "print ('Test image shape:     {0}'.format(xTest.shape))\n",
        "print ('Test label shape:     {0}'.format(yTest.shape))\n"
      ],
      "execution_count": 1,
      "outputs": [
        {
          "output_type": "stream",
          "text": [
            "Using TensorFlow backend.\n"
          ],
          "name": "stderr"
        },
        {
          "output_type": "stream",
          "text": [
            "Downloading data from https://www.cs.toronto.edu/~kriz/cifar-10-python.tar.gz\n",
            "170500096/170498071 [==============================] - 4s 0us/step\n",
            "Train image shape:    (50000, 32, 32, 3)\n",
            "Train label shape:    (50000,)\n",
            "Test image shape:     (10000, 32, 32, 3)\n",
            "Test label shape:     (10000,)\n"
          ],
          "name": "stdout"
        }
      ]
    },
    {
      "cell_type": "code",
      "metadata": {
        "id": "2k33WA6XoeGb",
        "colab_type": "code",
        "colab": {
          "base_uri": "https://localhost:8080/",
          "height": 329
        },
        "outputId": "5ee35c64-2336-4086-b72a-823476c18a23"
      },
      "source": [
        "import seaborn as sns\n",
        "\n",
        "ax = sns.countplot(y=yTrain)\n",
        "ax.set_title(\"Class distribution of CIFAR-10 training set\")\n",
        "plt.show()"
      ],
      "execution_count": 2,
      "outputs": [
        {
          "output_type": "stream",
          "text": [
            "/usr/local/lib/python3.6/dist-packages/statsmodels/tools/_testing.py:19: FutureWarning: pandas.util.testing is deprecated. Use the functions in the public API at pandas.testing instead.\n",
            "  import pandas.util.testing as tm\n"
          ],
          "name": "stderr"
        },
        {
          "output_type": "display_data",
          "data": {
            "image/png": "[encoded data removed]",
            "text/plain": [
              "<Figure size 432x288 with 1 Axes>"
            ]
          },
          "metadata": {
            "tags": [],
            "needs_background": "light"
          }
        }
      ]
    },
    {
      "cell_type": "code",
      "metadata": {
        "id": "1DhVB3IEX2aQ",
        "colab_type": "code",
        "outputId": "afec68de-9cc4-4840-e36d-032ad4530958",
        "colab": {
          "base_uri": "https://localhost:8080/",
          "height": 133
        }
      },
      "source": [
        "print(xTrain.shape)\n",
        "print(yTrain.shape)\n",
        "xTrain = np.reshape(xTrain, (xTrain.shape[0], -1)) # The -1 means that the corresponding dimension is calculated from the other given dimensions.\n",
        "\n",
        "xTest = np.reshape(xTest, (xTest.shape[0], -1))\n",
        "print(xTrain.shape) \n",
        "print(xTrain[0])\n",
        "\n",
        "#Normalize \n",
        "xTrain=((xTrain/255)*2)-1 \n",
        "print(xTrain.shape)\n",
        "print(xTrain[0])"
      ],
      "execution_count": 0,
      "outputs": [
        {
          "output_type": "stream",
          "text": [
            "(50000, 32, 32, 3)\n",
            "(50000,)\n",
            "(50000, 3072)\n",
            "[ 59.  62.  63. ... 123.  92.  72.]\n",
            "(50000, 3072)\n",
            "[-0.5372549  -0.51372549 -0.50588235 ... -0.03529412 -0.27843137\n",
            " -0.43529412]\n"
          ],
          "name": "stdout"
        }
      ]
    },
    {
      "cell_type": "code",
      "metadata": {
        "id": "XXFCaddmX6CQ",
        "colab_type": "code",
        "outputId": "4f6c3044-255f-4861-b04d-029f15fb67ae",
        "colab": {
          "base_uri": "https://localhost:8080/",
          "height": 50
        }
      },
      "source": [
        "train_x,train_y = xTrain[0:49000],yTrain[0:49000]\n",
        "val_x, val_y = xTrain[49000:],yTrain[49000:]\n",
        "\n",
        "print(\"No. of training samples = \",train_x.shape[0])\n",
        "print(\"No. of validation set samples = \",val_x.shape[0])"
      ],
      "execution_count": 0,
      "outputs": [
        {
          "output_type": "stream",
          "text": [
            "No. of training samples =  49000\n",
            "No. of validation set samples =  1000\n"
          ],
          "name": "stdout"
        }
      ]
    },
    {
      "cell_type": "code",
      "metadata": {
        "id": "hc2fkuFkYnE-",
        "colab_type": "code",
        "colab": {}
      },
      "source": [
        "#Building the actual classifier:\n",
        "#inputs will be of shape N X F where N = number of examples and F = number of features for each image.\n",
        "#labels will be of size N,1. This consists of labels for all N labels from 10 classes\n",
        "\n",
        "class kNearestNeighbour(object):\n",
        "    def __init__(self):\n",
        "        pass\n",
        "    \n",
        "    def train(self,X,Y):\n",
        "        #Knn will remember all of its training data\n",
        "        self.Xtr = X\n",
        "        self.Ytr = Y\n",
        "        \n",
        "    def predict(self,X,k):\n",
        "        #to get no. of samples in train set \n",
        "        test_samples = X.shape[0]\n",
        "        \n",
        "        Ypred = np.zeros(test_samples,dtype=self.Ytr.dtype)\n",
        "        \n",
        "        #Calculating the l1 distance between current samples of test and train set\n",
        "        for i in range(test_samples):\n",
        "            print(\"Test example = \",i,end=\"\\r\")\n",
        "            \n",
        "            #label_count is array of zeros used to store the count for each class while comparing neighbours\n",
        "            label_count = np.zeros(10,dtype=self.Ytr.dtype)    \n",
        "            \n",
        "            dist = np.sum(np.abs(X[i,:] - self.Xtr),axis=1)   #take the absolute sum horizontally across columns\n",
        "            \n",
        "            #idx will contain k smallest indices at the start of the list\n",
        "            #this is called partial sorting for more information look: https://docs.scipy.org/doc/numpy/reference/generated/numpy.argpartition.html\n",
        "            #min_ind will help us to slice through k indices which have minimum distance\n",
        "            idx = np.argpartition(dist,k)\n",
        "            min_ind = idx[:k]\n",
        "            \n",
        "            #This for loop iterates over min_ind and find the label present in train-set_Y for x\n",
        "            #and increase the count at that particular index whenever any label is repeated.\n",
        "            #Max value at any index is returned using np.argmax() and stored at ith index of Ypred i.e. predicted values\n",
        "            for x in min_ind:\n",
        "                label_count[int(self.Ytr[x])] +=1\n",
        "            Ypred[i] = np.argmax(label_count)\n",
        "    \n",
        "    \n",
        "        return Ypred"
      ],
      "execution_count": 0,
      "outputs": []
    },
    {
      "cell_type": "code",
      "metadata": {
        "id": "yyPrmVniYrDz",
        "colab_type": "code",
        "outputId": "5e13b36d-720e-4b60-99fb-a58f53b0785b",
        "colab": {
          "base_uri": "https://localhost:8080/",
          "height": 33
        }
      },
      "source": [
        "\n",
        "#lets use validation set for prediction and to calculate accuracy\n",
        "#hyper-parameter k = 3, similarity measure = L1\n",
        "\n",
        "knn = kNearestNeighbour()\n",
        "knn.train(train_x,train_y)\n",
        "val_y_pred = knn.predict(val_x,3)\n",
        "\n",
        "#Accuracy for validation set\n",
        "print('Val accuracy = ',np.mean(val_y_pred==val_y))"
      ],
      "execution_count": 0,
      "outputs": [
        {
          "output_type": "stream",
          "text": [
            "Val accuracy =  0.362\n"
          ],
          "name": "stdout"
        }
      ]
    },
    {
      "cell_type": "code",
      "metadata": {
        "id": "f1VubZ0hYtjp",
        "colab_type": "code",
        "outputId": "63882c9e-31ba-4a66-8f83-eda6cc2b5ca0",
        "colab": {
          "base_uri": "https://localhost:8080/",
          "height": 35
        }
      },
      "source": [
        "\n",
        "#hyper-parameter k = 5, similarity measure = L1\n",
        "\n",
        "val_y_pred = knn.predict(val_x,5)\n",
        "\n",
        "#Accuracy for validation set\n",
        "print('Val accuracy = ',np.mean(val_y_pred==val_y))"
      ],
      "execution_count": 0,
      "outputs": [
        {
          "output_type": "stream",
          "text": [
            "Val accuracy =  0.347\n"
          ],
          "name": "stdout"
        }
      ]
    },
    {
      "cell_type": "code",
      "metadata": {
        "id": "k-4RTko6YxCs",
        "colab_type": "code",
        "outputId": "ff883482-92dd-4c6a-84fe-54eb78361873",
        "colab": {
          "base_uri": "https://localhost:8080/",
          "height": 35
        }
      },
      "source": [
        "#hyper-parameter k = 7, similarity measure = L1\n",
        "\n",
        "val_y_pred = knn.predict(val_x,7)\n",
        "\n",
        "#Accuracy for validation set\n",
        "print('Val accuracy = ',np.mean(val_y_pred==val_y))"
      ],
      "execution_count": 0,
      "outputs": [
        {
          "output_type": "stream",
          "text": [
            "Val accuracy =  0.336\n"
          ],
          "name": "stdout"
        }
      ]
    },
    {
      "cell_type": "code",
      "metadata": {
        "id": "LYyiOg3iYzg9",
        "colab_type": "code",
        "outputId": "2ccc491c-d099-42df-c8f7-06db94bf42d6",
        "colab": {
          "base_uri": "https://localhost:8080/",
          "height": 35
        }
      },
      "source": [
        "\n",
        "#hyper-parameter k = 9, similarity measure = L1\n",
        "\n",
        "val_y_pred = knn.predict(val_x,9)\n",
        "\n",
        "#Accuracy for validation set\n",
        "print('Val accuracy = ',np.mean(val_y_pred==val_y))"
      ],
      "execution_count": 0,
      "outputs": [
        {
          "output_type": "stream",
          "text": [
            "Val accuracy =  0.339\n"
          ],
          "name": "stdout"
        }
      ]
    },
    {
      "cell_type": "code",
      "metadata": {
        "id": "f-sBzWjMsHs_",
        "colab_type": "code",
        "outputId": "3fd08df1-dc15-47c6-a7b9-e59d5245b53d",
        "colab": {
          "base_uri": "https://localhost:8080/",
          "height": 33
        }
      },
      "source": [
        "#hyper-parameter k = 3, similarity measure = L1\n",
        "\n",
        "test_y_pred = knn.predict(xTest,3)\n",
        "\n",
        "#Accuracy for validation set\n",
        "print('Test set accuracy = ',np.mean(test_y_pred==yTest))"
      ],
      "execution_count": 0,
      "outputs": [
        {
          "output_type": "stream",
          "text": [
            "Test set accuracy =  0.0998\n"
          ],
          "name": "stdout"
        }
      ]
    },
    {
      "cell_type": "code",
      "metadata": {
        "id": "bJJ50dt_jUAk",
        "colab_type": "code",
        "outputId": "6ab93998-5114-40c7-b2ee-2233610ff998",
        "colab": {
          "base_uri": "https://localhost:8080/",
          "height": 33
        }
      },
      "source": [
        "#hyper-parameter k =5, similarity measure = L1\n",
        "knn = kNearestNeighbour()\n",
        "knn.train(train_x,train_y)\n",
        "test_y_pred = knn.predict(xTest,5)\n",
        "\n",
        "#Accuracy for validation set\n",
        "print('Test set accuracy = ',np.mean(test_y_pred==yTest))"
      ],
      "execution_count": 0,
      "outputs": [
        {
          "output_type": "stream",
          "text": [
            "Test set accuracy =  0.1002\n"
          ],
          "name": "stdout"
        }
      ]
    },
    {
      "cell_type": "code",
      "metadata": {
        "id": "u8JlPvCojbbl",
        "colab_type": "code",
        "outputId": "08e00476-6dc4-4f10-dfc2-4b4c6b3673c2",
        "colab": {
          "base_uri": "https://localhost:8080/",
          "height": 33
        }
      },
      "source": [
        "#hyper-parameter k = 7, similarity measure = L1\n",
        "\n",
        "test_y_pred = knn.predict(xTest,7)\n",
        "\n",
        "#Accuracy for validation set\n",
        "print('Test set accuracy = ',np.mean(test_y_pred==yTest))"
      ],
      "execution_count": 0,
      "outputs": [
        {
          "output_type": "stream",
          "text": [
            "Test set accuracy =  0.1003\n"
          ],
          "name": "stdout"
        }
      ]
    }
  ]
}